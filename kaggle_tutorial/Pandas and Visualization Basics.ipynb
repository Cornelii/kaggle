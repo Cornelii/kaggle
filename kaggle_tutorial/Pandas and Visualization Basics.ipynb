{
 "cells": [
  {
   "cell_type": "code",
   "execution_count": null,
   "metadata": {},
   "outputs": [],
   "source": [
    "import os\n",
    "import pandas as pd\n",
    "import matplotlib.pyplot as plt\n",
    "import seaborn as sns\n",
    "import numpy as np"
   ]
  },
  {
   "cell_type": "markdown",
   "metadata": {},
   "source": [
    "<a name='top'></a>\n",
    "# I. Pandas Basics\n",
    "* [1. Generate DataFrame](#1_1)\n",
    "* [2. Select Columns](#1_2)\n",
    "* [3. Select Records](#1_3)\n",
    "* [4. Modify Dataframes](#1_4)\n",
    "* [5. Aggregate](#1_5)\n",
    "* [6. Merge and Concatenate](#1_6)\n",
    "\n",
    "# II. [Visualization Basics](#visualization)\n",
    "* [1.Seaborn](#sns_1)\n",
    "* [2. matplotlib](#plt_1)\n",
    "\n",
    "# III. [Pandas plot](#pandasplot_1)"
   ]
  },
  {
   "cell_type": "markdown",
   "metadata": {},
   "source": [
    "# I. Pandas Basics\n",
    "pandas는 python에서 data를 다루기 쉽게 해주는 모듈입니다. DBMS의 sql과 흡사한 부분이 있습니다."
   ]
  },
  {
   "cell_type": "markdown",
   "metadata": {},
   "source": [
    "<a name=\"1_1\"></a>\n",
    "## 1. Generate DataFrame"
   ]
  },
  {
   "cell_type": "markdown",
   "metadata": {},
   "source": [
    "#### 1. DataFrame by dict"
   ]
  },
  {
   "cell_type": "markdown",
   "metadata": {},
   "source": [
    "* 데이터 프레임을 생성하기 위해서 pd.DataFrame()을 활용할 수 있습니다.\n",
    "* 파이썬 dict형태로 인자를 넘겨주면 됩니다.\n",
    "* **Remarks** : 각 키값에 해당하는 레코드들이 같은 길이를 가지고 있어야 합니다.\n",
    "* 생성된 데이터 프레임 객체의 메소드 .head(n)를 통해 간단히 데이터 테이블을 미리 볼 수 있습니다."
   ]
  },
  {
   "cell_type": "code",
   "execution_count": null,
   "metadata": {},
   "outputs": [],
   "source": [
    "D = {\n",
    "    'col1':['a','b','c'],\n",
    "    'cash':[10000,5000,100]\n",
    "}\n",
    "df = pd.DataFrame(D)"
   ]
  },
  {
   "cell_type": "code",
   "execution_count": null,
   "metadata": {},
   "outputs": [],
   "source": [
    "df.head()"
   ]
  },
  {
   "cell_type": "markdown",
   "metadata": {},
   "source": [
    "#### 2. DataFrame by lists\n",
    "\n",
    "* 각 레코드별로 한 리스트에 넣고, 레코드 Attributes의 길이와 같은 Column이름을 한 리스트에 지정하여 넘겨주면 됩니다."
   ]
  },
  {
   "cell_type": "code",
   "execution_count": null,
   "metadata": {},
   "outputs": [],
   "source": [
    "name = ['a','b','c']\n",
    "cash = [10000,np.nan,100]\n",
    "records = list(zip(name,cash))\n",
    "print(f\"zipped records: {records}\")\n",
    "\n",
    "columns = ['name','cash']\n",
    "\n",
    "df2 = pd.DataFrame(records , columns=columns)\n",
    "df2"
   ]
  },
  {
   "cell_type": "markdown",
   "metadata": {},
   "source": [
    "#### 3. DataFrame by CSV file"
   ]
  },
  {
   "cell_type": "code",
   "execution_count": null,
   "metadata": {},
   "outputs": [],
   "source": [
    "csv_addr = os.path.join('data','train.csv')\n",
    "df_train = pd.read_csv(csv_addr)"
   ]
  },
  {
   "cell_type": "code",
   "execution_count": null,
   "metadata": {
    "scrolled": true
   },
   "outputs": [],
   "source": [
    "df_train.head()"
   ]
  },
  {
   "cell_type": "markdown",
   "metadata": {},
   "source": [
    "##### .info() 메소드를 활용하여 데이터프레임의 좀 더 세부적인 정보들을 확인할 수 있습니다."
   ]
  },
  {
   "cell_type": "code",
   "execution_count": null,
   "metadata": {
    "scrolled": true
   },
   "outputs": [],
   "source": [
    "df_train.info()"
   ]
  },
  {
   "cell_type": "markdown",
   "metadata": {},
   "source": [
    "### Problem 1\n",
    "밑에 사전이나 리스트를 활용하여, 자신이 좋아하는 음식과 영화가 몇개 담긴 pandas의 DataFrame을 생성해보세요."
   ]
  },
  {
   "cell_type": "code",
   "execution_count": null,
   "metadata": {},
   "outputs": [],
   "source": [
    "records = [['육개장','아이언맨'],['회','스파이더맨'],['순댓국밥','해리포터']]\n",
    "columns = [\"음식\",'영화']\n",
    "a = pd.DataFrame(records, columns = columns)\n",
    "a.head()"
   ]
  },
  {
   "cell_type": "code",
   "execution_count": null,
   "metadata": {},
   "outputs": [],
   "source": []
  },
  {
   "cell_type": "code",
   "execution_count": null,
   "metadata": {},
   "outputs": [],
   "source": []
  },
  {
   "cell_type": "markdown",
   "metadata": {},
   "source": [
    "<a id=\"1_2\"></a>\n",
    "## 2. Select columns"
   ]
  },
  {
   "cell_type": "markdown",
   "metadata": {},
   "source": [
    "#### 1. Select Columns\n",
    "\n",
    "* df[{col_name}]\n",
    "* df.col_name\n",
    "\n",
    "선택하고자 하는 칼럼의 이름이 General rule of variable naming에 맞다면, 클래스의 attribute처럼 선택할 수 있습니다.\n",
    "\n",
    "다수의 칼럼을 선택하고자 할 시에는 칼럼의 이름들로 하나의 리스트를 만들어 아래와 같이 할 수 있습니다.\n",
    "```python\n",
    "cols = ['price', 'date', 'view']\n",
    "df_train[cols]\n",
    "```"
   ]
  },
  {
   "cell_type": "code",
   "execution_count": null,
   "metadata": {
    "scrolled": true
   },
   "outputs": [],
   "source": [
    "a.음식"
   ]
  },
  {
   "cell_type": "code",
   "execution_count": null,
   "metadata": {
    "scrolled": true
   },
   "outputs": [],
   "source": [
    "a[\"영화\"]"
   ]
  },
  {
   "cell_type": "code",
   "execution_count": null,
   "metadata": {
    "scrolled": true
   },
   "outputs": [],
   "source": [
    "a[['음식','영화']]"
   ]
  },
  {
   "cell_type": "markdown",
   "metadata": {},
   "source": [
    "* df.columns 를 통해 DataFrame이 가진 column들의 이름을 가져올 수 있습니다. 참고 .index"
   ]
  },
  {
   "cell_type": "code",
   "execution_count": null,
   "metadata": {},
   "outputs": [],
   "source": [
    "a.columns, a.index"
   ]
  },
  {
   "cell_type": "markdown",
   "metadata": {},
   "source": [
    "##### 선택한 칼럼의 갯수에 따른 반환값의 형태를 확인해봅시다."
   ]
  },
  {
   "cell_type": "code",
   "execution_count": null,
   "metadata": {},
   "outputs": [],
   "source": [
    "print(type(df_train.view))\n",
    "print(type(df_train[['view','price']]))"
   ]
  },
  {
   "cell_type": "markdown",
   "metadata": {},
   "source": [
    "##### numpy Array형태로 값을 반환 받기 위해서는?!\n",
    ".values\n",
    "\n",
    "* **Remarks**: 메소드 아님."
   ]
  },
  {
   "cell_type": "code",
   "execution_count": null,
   "metadata": {},
   "outputs": [],
   "source": [
    "print(df_train.view.values)\n",
    "print(type(df_train.view.values))"
   ]
  },
  {
   "cell_type": "markdown",
   "metadata": {},
   "source": [
    "<a id=\"1_3\"></a>\n",
    "## 3. Select Records"
   ]
  },
  {
   "cell_type": "markdown",
   "metadata": {},
   "source": [
    "#### 1. Select Row by index\n",
    "pandas 데이터프레임에서 레코드에 접근하기 위해서는 [], loc[], .iloc[]를 사용합니다. (.ix[])"
   ]
  },
  {
   "cell_type": "code",
   "execution_count": null,
   "metadata": {
    "scrolled": true
   },
   "outputs": [],
   "source": [
    "print(type(df_train.iloc[5]))\n",
    "df_train.iloc[5]# 5th row"
   ]
  },
  {
   "cell_type": "markdown",
   "metadata": {},
   "source": [
    "##### Slicing 또한 사용 가능합니다."
   ]
  },
  {
   "cell_type": "code",
   "execution_count": null,
   "metadata": {},
   "outputs": [],
   "source": [
    "df_train.iloc[4:7,6] # data at [4][ b"
   ]
  },
  {
   "cell_type": "code",
   "execution_count": null,
   "metadata": {},
   "outputs": [],
   "source": [
    "df_train.iloc[4:7,:]"
   ]
  },
  {
   "cell_type": "markdown",
   "metadata": {},
   "source": [
    "#### 2. Select by boolean(Logic)\n",
    "또한, 데이터프레임에 [] or .loc[] 속에 논리식을 넣어 선택할 수 있습니다.\n",
    "* `>, <, <=, >=, !=, ==`\n",
    "\n",
    "\n",
    "다중 논리식\n",
    "* | : or\n",
    "* & : and\n",
    "* etc.\n",
    "**Remarks**: 복수개의 논리식을 사용할 때에는 () 괄호를 사용하여 논리식을 구분해 주어야 합니다."
   ]
  },
  {
   "cell_type": "code",
   "execution_count": null,
   "metadata": {
    "scrolled": true
   },
   "outputs": [],
   "source": [
    "df_train[(df_train.view != 0) & (df_train.view < 4)].head()"
   ]
  },
  {
   "cell_type": "code",
   "execution_count": null,
   "metadata": {
    "scrolled": true
   },
   "outputs": [],
   "source": [
    "df_train.loc[df_train.view>2].head()"
   ]
  },
  {
   "cell_type": "code",
   "execution_count": null,
   "metadata": {},
   "outputs": [],
   "source": [
    "dfA = df_train[(df_train.view != 0) & (df_train.view < 4)]\n",
    "dfB = df_train.loc[(df_train.view != 0) & (df_train.view < 4)]"
   ]
  },
  {
   "cell_type": "code",
   "execution_count": null,
   "metadata": {},
   "outputs": [],
   "source": [
    "print(type(dfA), type(dfB))"
   ]
  },
  {
   "cell_type": "markdown",
   "metadata": {},
   "source": [
    "#### 3. reset Indices\n",
    "위 조건식 맨 앞의 인덱스를 확인해보시면, 조건식에 따라 선택되었기 때문에, 연속적인 값이 아닙니다. 데이터 프레임을 부분집합으로 새로 구성하고자 할 때, 인덱스를 다시 매길 수 있습니다."
   ]
  },
  {
   "cell_type": "code",
   "execution_count": null,
   "metadata": {},
   "outputs": [],
   "source": [
    "dfA.head()"
   ]
  },
  {
   "cell_type": "code",
   "execution_count": null,
   "metadata": {},
   "outputs": [],
   "source": [
    "dfA.reset_index(drop = False, inplace = True)\n",
    "dfA.head()"
   ]
  },
  {
   "cell_type": "markdown",
   "metadata": {},
   "source": [
    "##### 이전 인덱스들이 index라는 칼럼으로 새로 생성되어 추가된 것을 알 수 있습니다. 이를 없애기 위해서는 `drop = True` 로 주면 됩니다.\n",
    "##### inplace를 통해 반환값만 주는 것에서 더해 데이터프레임자체를 변경시킬 수 있습니다."
   ]
  },
  {
   "cell_type": "code",
   "execution_count": null,
   "metadata": {},
   "outputs": [],
   "source": [
    "dfB\n",
    "dfC=dfB.reset_index(drop = False, inplace = False)\n",
    "dfB.head()"
   ]
  },
  {
   "cell_type": "code",
   "execution_count": null,
   "metadata": {},
   "outputs": [],
   "source": [
    "dfC.head()"
   ]
  },
  {
   "cell_type": "markdown",
   "metadata": {},
   "source": [
    "## Problem 2\n",
    "csv파일로부터 생성된 df_train에서 waterfront가 1이고, sqft_above가 3000이하인 데이터를 모아서 df_tmp에 저장하고, .tail(10)를 통해 뒤에서부터 10개의 레코드를 확인해보세요."
   ]
  },
  {
   "cell_type": "code",
   "execution_count": null,
   "metadata": {
    "scrolled": true
   },
   "outputs": [],
   "source": [
    "df_tmp = df_train.loc[(df_train.waterfront == 1) & (df_train['sqft_above'] <= 3000)]\n",
    "df_tmp.tail(10)"
   ]
  },
  {
   "cell_type": "markdown",
   "metadata": {},
   "source": [
    "* .shape 을 통해 해당 DataFrame이 가지고 있는 Dimension정보를 얻을 수 있습니다."
   ]
  },
  {
   "cell_type": "code",
   "execution_count": null,
   "metadata": {},
   "outputs": [],
   "source": [
    "df_tmp.shape"
   ]
  },
  {
   "cell_type": "markdown",
   "metadata": {},
   "source": [
    "<a id=\"1_4\"></a>\n",
    "## 4. Modify Dataframes\n",
    "데이터 프레임을 조작할 때 많은 경우 칼럼 단위로 조작하게 됩니다. 이에 대해 알아봅시다."
   ]
  },
  {
   "cell_type": "markdown",
   "metadata": {},
   "source": [
    "#### 1. Add a column\n",
    "사전에 새로운 키값에 새로운 값을 넣어주듯이 새로운 Column을 DataFrame에 추가시킬 수 있습니다."
   ]
  },
  {
   "cell_type": "code",
   "execution_count": null,
   "metadata": {},
   "outputs": [],
   "source": [
    "len_df = df_train.shape[0]\n",
    "print(\"Shape of dataframe: {}\".format(df_train.shape))\n",
    "\n",
    "random_noise = np.random.randn(len_df,1)\n",
    "\n",
    "\n",
    "df_train['Gaussian_noise'] = random_noise\n",
    "df_train.head()"
   ]
  },
  {
   "cell_type": "code",
   "execution_count": null,
   "metadata": {},
   "outputs": [],
   "source": [
    "df_train.gauss = random_noise"
   ]
  },
  {
   "cell_type": "markdown",
   "metadata": {},
   "source": [
    "#### 2. with a single value\n",
    "한 값만을 가지고 있는 column 역시 쉽게 추가시킬 수 있습니다."
   ]
  },
  {
   "cell_type": "code",
   "execution_count": null,
   "metadata": {},
   "outputs": [],
   "source": [
    "df_train[\"단일 값으로 생성\"]= 'Hello Pandas'\n",
    "df_train.head()"
   ]
  },
  {
   "cell_type": "markdown",
   "metadata": {},
   "source": [
    "#### 3. Add a column with manipulating with others\n",
    "다른 column들을 조작하며 추가시킬 수도 있습니다."
   ]
  },
  {
   "cell_type": "code",
   "execution_count": null,
   "metadata": {
    "scrolled": true
   },
   "outputs": [],
   "source": [
    "df_train['sqft_sum']=df_train.sqft_living15 + df_train.sqft_lot15\n",
    "df_train.head()"
   ]
  },
  {
   "cell_type": "markdown",
   "metadata": {},
   "source": [
    "#### 4. Apply custom function to each data in a coulmn\n",
    "람다 함수 등을 선언하여 파이썬 map 함수처럼 column에 적용할 수 있습니다.\n",
    "\n",
    "이 때 사용하는 method가 .apply()입니다."
   ]
  },
  {
   "cell_type": "markdown",
   "metadata": {},
   "source": [
    "##### i. Apply lambda function into a column"
   ]
  },
  {
   "cell_type": "code",
   "execution_count": null,
   "metadata": {},
   "outputs": [],
   "source": [
    "df_train['NewColumnByLambda'] = df_train['long'].apply(lambda x: abs(x)+100)"
   ]
  },
  {
   "cell_type": "code",
   "execution_count": null,
   "metadata": {
    "scrolled": true
   },
   "outputs": [],
   "source": [
    "df_train.head()"
   ]
  },
  {
   "cell_type": "markdown",
   "metadata": {},
   "source": [
    "##### ii. Apply lambda function using rows\n",
    "axis = 1을 추가하여 넘겨줌을 통해 row에 적용할 수 있습니다."
   ]
  },
  {
   "cell_type": "code",
   "execution_count": null,
   "metadata": {},
   "outputs": [],
   "source": [
    "lambda_fn = lambda row : row['lat'] + row['long']\n",
    "df_train['NewColumnByRows'] = df_train.apply(lambda_fn, axis=1)\n",
    "# DataFrame에서 .apply()를 호출하였습니다."
   ]
  },
  {
   "cell_type": "code",
   "execution_count": null,
   "metadata": {},
   "outputs": [],
   "source": [
    "df_train.head()"
   ]
  },
  {
   "cell_type": "markdown",
   "metadata": {},
   "source": [
    "#### 5. .drop()\n",
    "\n",
    ".drop() 메소드를 통해서 원하는 row 또는 column을 DataFrame에서 제거할 수 있습니다.\n",
    "* row 제거: `df.drop([1,6,3])`\n",
    "* col 제거: `df.drop(['col1','col2'],axis=1)`"
   ]
  },
  {
   "cell_type": "code",
   "execution_count": null,
   "metadata": {
    "scrolled": true
   },
   "outputs": [],
   "source": [
    "df_train.drop([1,6])"
   ]
  },
  {
   "cell_type": "markdown",
   "metadata": {},
   "source": [
    "* 해당사항이 적용된 DataFrame을 반환하지만, 원래의 DataFrame이 변하지는 않습니다. 반환값 없이 적용하기 위해서는 inplace = True로 넘겨주면 됩니다."
   ]
  },
  {
   "cell_type": "code",
   "execution_count": null,
   "metadata": {},
   "outputs": [],
   "source": [
    "df_train.drop(['date','단일 값으로 생성'], axis=1, inplace=True)"
   ]
  },
  {
   "cell_type": "code",
   "execution_count": null,
   "metadata": {},
   "outputs": [],
   "source": [
    "df_train.head()"
   ]
  },
  {
   "cell_type": "markdown",
   "metadata": {},
   "source": [
    "## Problem 3\n",
    "df_train의 bathrooms 속성이 2보다 크면 1을, 2보다 같거나 작으면 0을 가지도록 하는 새로운 열 'mask_bathrooms'을 추가해보세요. "
   ]
  },
  {
   "cell_type": "code",
   "execution_count": null,
   "metadata": {},
   "outputs": [],
   "source": [
    "def mask_bath(x):\n",
    "    if x > 2:\n",
    "        return 1\n",
    "    else:\n",
    "        return 0\n",
    "    \n",
    "df_train['mask_bathrooms'] = df_train['bathrooms'].apply(mask_bath)\n",
    "df_train.head()"
   ]
  },
  {
   "cell_type": "code",
   "execution_count": null,
   "metadata": {},
   "outputs": [],
   "source": []
  },
  {
   "cell_type": "code",
   "execution_count": null,
   "metadata": {},
   "outputs": [],
   "source": []
  },
  {
   "cell_type": "markdown",
   "metadata": {},
   "source": [
    "<a name=\"1_5\"></a>\n",
    "## 5. Aggregates\n",
    "특정한 column을 대표할만 한 숫자를 뽑아내는 것을 Aggregate라고 이해할 수 있습니다.\n",
    "$Aggregate : column -> R$\n",
    "\n",
    "###### 아래와 같은 예들이 있습니다.\n",
    " * mean\n",
    " * std\n",
    " * median\n",
    " * max\n",
    " * min\n",
    " * count\n",
    " * nunique\n",
    " * unique"
   ]
  },
  {
   "cell_type": "code",
   "execution_count": null,
   "metadata": {},
   "outputs": [],
   "source": [
    "df_train.Gaussian_noise.mean()"
   ]
  },
  {
   "cell_type": "markdown",
   "metadata": {},
   "source": [
    "DataFrame에 적용하면 칼럼별로 적용된 값을 얻을 수 있습니다."
   ]
  },
  {
   "cell_type": "code",
   "execution_count": null,
   "metadata": {
    "scrolled": true
   },
   "outputs": [],
   "source": [
    "df_train.mean()"
   ]
  },
  {
   "cell_type": "markdown",
   "metadata": {},
   "source": [
    "#### 1. .groupby()\n",
    "groupby를 활용하여 특정한 columns에 있는 내용을 그룹화하여 Aggregate 할 수 있습니다."
   ]
  },
  {
   "cell_type": "code",
   "execution_count": null,
   "metadata": {
    "scrolled": true
   },
   "outputs": [],
   "source": [
    "df_train.groupby('bedrooms').min()"
   ]
  },
  {
   "cell_type": "markdown",
   "metadata": {},
   "source": [
    "위의 dataframe을 보면 bedrooms 으로 인덱스로 그룹화 된 것을 알 수 있습니다. 다시 말해, bedrooms 에 속한 data를 같은 것 끼리 묶은 다음 Aggretate하는 것입니다. 두개 이상의 columns을 이용해서 groupby하면 data들의 조합으로 그룹들이 만들어지게 됩니다."
   ]
  },
  {
   "cell_type": "code",
   "execution_count": null,
   "metadata": {
    "scrolled": true
   },
   "outputs": [],
   "source": [
    "df_train.groupby(['bedrooms','bathrooms']).max()"
   ]
  },
  {
   "cell_type": "markdown",
   "metadata": {},
   "source": [
    "Groupby를 통해 Aggregate된 Dataframe의 column을 선택하여 .apply를 적용시킬 수도 있습니다.\n",
    "예를들어 밑의 예는 \n",
    "df_train안에 있는 bedrooms column에 들어있는 값들을 종류별로 그룹화하여 median값을 나타내는 dataframe을 새로 만들고, 이 dataframe의 bathrooms에 해당 lambda 함수를 적용한 것입니다."
   ]
  },
  {
   "cell_type": "code",
   "execution_count": null,
   "metadata": {},
   "outputs": [],
   "source": [
    "grouped_lambda_apply = df_train.groupby('bedrooms').median().bathrooms.apply(lambda x:3 if x<1 else 7)"
   ]
  },
  {
   "cell_type": "code",
   "execution_count": null,
   "metadata": {
    "scrolled": true
   },
   "outputs": [],
   "source": [
    "grouped_lambda_apply"
   ]
  },
  {
   "cell_type": "markdown",
   "metadata": {},
   "source": [
    "## Problem 4\n",
    "df_train에서 'bedrooms'의 속성별로 모인 값들이 가지는 'price'의 중앙값을 얻어보세요."
   ]
  },
  {
   "cell_type": "code",
   "execution_count": null,
   "metadata": {},
   "outputs": [],
   "source": [
    "df_train['bedrooms'].unique()"
   ]
  },
  {
   "cell_type": "code",
   "execution_count": null,
   "metadata": {},
   "outputs": [],
   "source": [
    "for i in range(11):\n",
    "    target = df_train.loc[df_train['bedrooms'] == i].median().loc[\"price\"]\n",
    "    print(f\"bedrooms:{i} median of price:{target}\")"
   ]
  },
  {
   "cell_type": "code",
   "execution_count": null,
   "metadata": {},
   "outputs": [],
   "source": [
    "df_train.groupby('bedrooms').median().price"
   ]
  },
  {
   "cell_type": "code",
   "execution_count": null,
   "metadata": {},
   "outputs": [],
   "source": []
  },
  {
   "cell_type": "code",
   "execution_count": null,
   "metadata": {},
   "outputs": [],
   "source": []
  },
  {
   "cell_type": "markdown",
   "metadata": {},
   "source": [
    "<a name=\"1_6\"></a>\n",
    "## 6. Merge and Concatenate"
   ]
  },
  {
   "cell_type": "markdown",
   "metadata": {},
   "source": [
    "#### 1. Inner Merge"
   ]
  },
  {
   "cell_type": "code",
   "execution_count": null,
   "metadata": {},
   "outputs": [],
   "source": [
    "D = {\n",
    "   \"id\" : [1,2,3,4,5],\n",
    "    \"food\":[\"순댓국밥\",\"파스타\",\"짜장면\",\"스테이크\",\"라면\"]\n",
    "}\n",
    "\n",
    "df1 = pd.DataFrame(D)\n",
    "\n",
    "a = [1,3,5]\n",
    "b = [\"할매\", \"공화춘\", \"농심\"]\n",
    "\n",
    "df2 = pd.DataFrame(zip(a,b),columns=[\"id\",\"company\"])"
   ]
  },
  {
   "cell_type": "code",
   "execution_count": null,
   "metadata": {},
   "outputs": [],
   "source": [
    "df1"
   ]
  },
  {
   "cell_type": "code",
   "execution_count": null,
   "metadata": {},
   "outputs": [],
   "source": [
    "df2"
   ]
  },
  {
   "cell_type": "markdown",
   "metadata": {},
   "source": [
    "* pd.merge()는 자동으로 같은 칼럼 이름을 찾아 합쳐주며, 기본적으로 없는 레코드를 지우며 합쳐주는 innermerge를 시켜줍니다."
   ]
  },
  {
   "cell_type": "code",
   "execution_count": null,
   "metadata": {},
   "outputs": [],
   "source": [
    "merged_df = pd.merge(df1, df2)\n",
    "merged_df"
   ]
  },
  {
   "cell_type": "markdown",
   "metadata": {},
   "source": [
    "* 공통된 이름의 column이 없다면 left_on, right_on을 통해 직접 정해줄 수 있습니다."
   ]
  },
  {
   "cell_type": "code",
   "execution_count": null,
   "metadata": {},
   "outputs": [],
   "source": [
    "df3 = pd.DataFrame(zip(a,b),columns=[\"id2\",\"com\"])\n",
    "df3"
   ]
  },
  {
   "cell_type": "code",
   "execution_count": null,
   "metadata": {},
   "outputs": [],
   "source": [
    "merged_df2 = pd.merge(df1, df3, left_on=\"id\", right_on=\"id2\")\n",
    "merged_df2"
   ]
  },
  {
   "cell_type": "markdown",
   "metadata": {},
   "source": [
    "* merge 하는 두 DataFrame에 합치는 기준이 되는 칼럼 이외에 같은 이름의 칼럼이 있다면, suffixes를 통해 구분해 줄 수 있습니다."
   ]
  },
  {
   "cell_type": "code",
   "execution_count": null,
   "metadata": {},
   "outputs": [],
   "source": [
    "df3 = pd.DataFrame(zip(a,b),columns=[\"id2\",\"food\"])\n",
    "df3"
   ]
  },
  {
   "cell_type": "code",
   "execution_count": null,
   "metadata": {},
   "outputs": [],
   "source": [
    "merged_df2 = pd.merge(df1, df3, left_on=\"id\", right_on=\"id2\", suffixes=['_df1','_df3'])\n",
    "merged_df2"
   ]
  },
  {
   "cell_type": "code",
   "execution_count": null,
   "metadata": {},
   "outputs": [],
   "source": [
    "df1.merge(df2)"
   ]
  },
  {
   "cell_type": "markdown",
   "metadata": {},
   "source": [
    "#### 2. outer merge"
   ]
  },
  {
   "cell_type": "code",
   "execution_count": null,
   "metadata": {},
   "outputs": [],
   "source": [
    "pd.merge(df1, df2, how=\"outer\")"
   ]
  },
  {
   "cell_type": "code",
   "execution_count": null,
   "metadata": {},
   "outputs": [],
   "source": [
    "pd.merge(df1, df2, how=\"left\")"
   ]
  },
  {
   "cell_type": "code",
   "execution_count": null,
   "metadata": {},
   "outputs": [],
   "source": [
    "pd.merge(df1, df2, how=\"right\")"
   ]
  },
  {
   "cell_type": "markdown",
   "metadata": {},
   "source": [
    "#### 3. pd.concat & pd.join"
   ]
  },
  {
   "cell_type": "code",
   "execution_count": null,
   "metadata": {},
   "outputs": [],
   "source": [
    "pd.concat([df1,df2])"
   ]
  },
  {
   "cell_type": "code",
   "execution_count": null,
   "metadata": {},
   "outputs": [],
   "source": [
    "pd.concat([df1,df2],axis=1)"
   ]
  },
  {
   "cell_type": "code",
   "execution_count": null,
   "metadata": {
    "scrolled": true
   },
   "outputs": [],
   "source": [
    "df1.join(df2,lsuffix='_l',rsuffix='_r')"
   ]
  },
  {
   "cell_type": "code",
   "execution_count": null,
   "metadata": {},
   "outputs": [],
   "source": []
  },
  {
   "cell_type": "code",
   "execution_count": null,
   "metadata": {},
   "outputs": [],
   "source": []
  },
  {
   "cell_type": "markdown",
   "metadata": {},
   "source": [
    "<hr>"
   ]
  },
  {
   "cell_type": "markdown",
   "metadata": {},
   "source": [
    "<a name=\"visualization\"></a>\n",
    "# II. Visualization\n",
    "1. seaborn\n",
    "2. [matplotlib.pyplot](#plt_1)"
   ]
  },
  {
   "cell_type": "markdown",
   "metadata": {},
   "source": [
    "<a name=\"sns_1\"></a>\n",
    "## 1. Seaborn\n",
    "Seaborn은 pandas의 DataFrame곽 함께 사용되는 데에 최적화되어 있습니다. \n",
    "\n",
    "* relplot (Relational plot)\n",
    "    * scatterplot()\n",
    "    * lineplot()\n",
    "    \n",
    "* catplot (Categorical plot)\n",
    "    - i. scatter plot\n",
    "        * stripplot() default\n",
    "        * swarmplot()\n",
    "    - ii. distribution plot\n",
    "        * boxplot()\n",
    "        * violinplot()\n",
    "        * boxenplot()\n",
    "    - iii. estimate plot\n",
    "        * pointplot()\n",
    "        * barplot()\n",
    "        * countplot()\n",
    "        \n",
    "* visualize data distribution\n",
    "    * distplot()\n",
    "    * kdeplot()\n",
    "    * jointplot()\n",
    "    * rugplot()\n",
    "    * pairplot()"
   ]
  },
  {
   "cell_type": "code",
   "execution_count": null,
   "metadata": {},
   "outputs": [],
   "source": [
    "for column in df_train.columns:\n",
    "    num_col=len(pd.unique(df_train[column]))\n",
    "    print(f\"{column:20}: {num_col}\")"
   ]
  },
  {
   "cell_type": "markdown",
   "metadata": {},
   "source": [
    "#### 1. relplot (Relational plot)"
   ]
  },
  {
   "cell_type": "markdown",
   "metadata": {},
   "source": [
    "#### i. scatterplot()"
   ]
  },
  {
   "cell_type": "code",
   "execution_count": null,
   "metadata": {},
   "outputs": [],
   "source": [
    "sns.relplot(x='sqft_living', y=\"price\", kind='scatter',hue=\"waterfront\",data=df_train)"
   ]
  },
  {
   "cell_type": "code",
   "execution_count": null,
   "metadata": {},
   "outputs": [],
   "source": [
    "# sns.relplot(x='sqft_living', y=\"price\", kind='scatter',hue=\"waterfront\",size=\"grade\",style=\"floors\",data=df_train)"
   ]
  },
  {
   "cell_type": "markdown",
   "metadata": {},
   "source": [
    "#### ii. lineplot()"
   ]
  },
  {
   "cell_type": "code",
   "execution_count": null,
   "metadata": {},
   "outputs": [],
   "source": [
    "sns.lineplot(data=df_train, x=\"grade\", y=\"price\")"
   ]
  },
  {
   "cell_type": "code",
   "execution_count": null,
   "metadata": {},
   "outputs": [],
   "source": [
    "df_train.groupby(\"grade\").count()[\"id\"]"
   ]
  },
  {
   "cell_type": "code",
   "execution_count": null,
   "metadata": {},
   "outputs": [],
   "source": [
    "a= df_train.loc[df_train[\"grade\"] == 8][\"price\"]\n",
    "sns.kdeplot(a)"
   ]
  },
  {
   "cell_type": "code",
   "execution_count": null,
   "metadata": {},
   "outputs": [],
   "source": [
    "sns.relplot(x=\"yr_built\", y=\"grade\", kind='line', ci=95, data=df_train)"
   ]
  },
  {
   "cell_type": "markdown",
   "metadata": {},
   "source": [
    "#### 2. Categorical Plot"
   ]
  },
  {
   "cell_type": "markdown",
   "metadata": {},
   "source": [
    "#### i. Bar plot"
   ]
  },
  {
   "cell_type": "code",
   "execution_count": null,
   "metadata": {},
   "outputs": [],
   "source": [
    "sns.countplot(x = \"bedrooms\", data=df_train)"
   ]
  },
  {
   "cell_type": "code",
   "execution_count": null,
   "metadata": {},
   "outputs": [],
   "source": [
    "sns.barplot(x=\"bathrooms\", y=\"price\", data=df_train)"
   ]
  },
  {
   "cell_type": "markdown",
   "metadata": {},
   "source": [
    "#### iii. box plot"
   ]
  },
  {
   "cell_type": "code",
   "execution_count": null,
   "metadata": {},
   "outputs": [],
   "source": [
    "sns.boxplot(x=\"bedrooms\", y=\"price\", data=df_train)"
   ]
  },
  {
   "cell_type": "code",
   "execution_count": null,
   "metadata": {},
   "outputs": [],
   "source": [
    "sns.catplot(x=\"grade\", y=\"price\", data=df_train, kind='box')"
   ]
  },
  {
   "cell_type": "markdown",
   "metadata": {},
   "source": [
    "#### iv. Violin plot (box + kde plot)\n",
    "* white point in the center: median\n",
    "* Thick black bar: interquartile range\n",
    "* Thin black bar: confidence interval\n",
    "* Shaded area: KDE"
   ]
  },
  {
   "cell_type": "code",
   "execution_count": null,
   "metadata": {},
   "outputs": [],
   "source": [
    "sns.violinplot(x=\"view\" ,y=\"grade\",data=df_train)"
   ]
  },
  {
   "cell_type": "markdown",
   "metadata": {},
   "source": [
    "#### 3. Data distribution"
   ]
  },
  {
   "cell_type": "markdown",
   "metadata": {},
   "source": [
    "#### ii. kde plot (kernel density estimator)"
   ]
  },
  {
   "cell_type": "code",
   "execution_count": null,
   "metadata": {},
   "outputs": [],
   "source": [
    "sns.kdeplot(df_train[\"bathrooms\"], shade=True, color='y')"
   ]
  },
  {
   "cell_type": "code",
   "execution_count": null,
   "metadata": {},
   "outputs": [],
   "source": [
    "sns.kdeplot(df_train['grade'],df_train['view'], shade=False, n_levels=5, cmap='jet')"
   ]
  },
  {
   "cell_type": "markdown",
   "metadata": {},
   "source": [
    "fig, ax = plt.subplots(1,1, figsize=(15,13))\n",
    "\n",
    "ax = sns.kdeplot(df_train['grade'],df_train['view'], shade=False, n_levels=20, cmap='jet')\n",
    "ax.axis([5.5,9.5,-0.5,0.5])"
   ]
  },
  {
   "cell_type": "code",
   "execution_count": null,
   "metadata": {},
   "outputs": [],
   "source": []
  },
  {
   "cell_type": "code",
   "execution_count": null,
   "metadata": {},
   "outputs": [],
   "source": []
  },
  {
   "cell_type": "markdown",
   "metadata": {},
   "source": [
    "#### Joint Plot & Joint Grid"
   ]
  },
  {
   "cell_type": "code",
   "execution_count": null,
   "metadata": {
    "scrolled": false
   },
   "outputs": [],
   "source": [
    "sns.jointplot(x=\"grade\", y=\"condition\", data=df_train)"
   ]
  },
  {
   "cell_type": "markdown",
   "metadata": {},
   "source": [
    "* kind : 'scatter', 'reg', 'resid', 'kde', 'hex'"
   ]
  },
  {
   "cell_type": "code",
   "execution_count": null,
   "metadata": {},
   "outputs": [],
   "source": [
    "sns.jointplot(x=\"grade\", y=\"condition\", data=df_train, kind='kde')"
   ]
  },
  {
   "cell_type": "code",
   "execution_count": null,
   "metadata": {},
   "outputs": [],
   "source": [
    "sns.jointplot(x=\"grade\", y=\"price\", data=df_train, kind='reg')"
   ]
  },
  {
   "cell_type": "markdown",
   "metadata": {},
   "source": [
    "**Joint Grid**\n",
    "* bivariate + univariate"
   ]
  },
  {
   "cell_type": "markdown",
   "metadata": {},
   "source": [
    "Initialize Grid"
   ]
  },
  {
   "cell_type": "code",
   "execution_count": null,
   "metadata": {},
   "outputs": [],
   "source": [
    "a = sns.JointGrid(x='sqft_above', y='sqft_living', data=df_train)\n",
    "a.plot(plt.scatter, sns.distplot)\n",
    "#a.plot_joint()\n",
    "#a.plot_marginals()"
   ]
  },
  {
   "cell_type": "markdown",
   "metadata": {},
   "source": [
    "#### FacetGrid\n",
    "\n",
    "1. var = sns.FacetGrid(data, row, col, hue)\n",
    "2. var.map(fcn, *args, **kwargs)"
   ]
  },
  {
   "cell_type": "code",
   "execution_count": null,
   "metadata": {
    "scrolled": true
   },
   "outputs": [],
   "source": [
    "g = sns.FacetGrid(data=df_train, row='view', col='condition', hue='waterfront')\n",
    "g.map(plt.scatter, 'grade','price').add_legend()"
   ]
  },
  {
   "cell_type": "markdown",
   "metadata": {},
   "source": [
    "#### Pairplot & PairGrid\n",
    "1. var = sns.PairGrid(dataframe)\n",
    "2. var.map(fcn)\n",
    "* var.map_diag(fcn)\n",
    "* var.map_offdiag(fcn)"
   ]
  },
  {
   "cell_type": "code",
   "execution_count": null,
   "metadata": {},
   "outputs": [],
   "source": [
    "iris = sns.load_dataset('iris')"
   ]
  },
  {
   "cell_type": "code",
   "execution_count": null,
   "metadata": {
    "scrolled": true
   },
   "outputs": [],
   "source": [
    "var = sns.PairGrid(iris, hue=\"species\")\n",
    "var.map(plt.scatter)"
   ]
  },
  {
   "cell_type": "markdown",
   "metadata": {},
   "source": [
    "## Problem 5\n",
    "    df_train에서 'sqft_living'의 분포를 확인하는 그래프를 그려보세요.\n",
    "   "
   ]
  },
  {
   "cell_type": "code",
   "execution_count": null,
   "metadata": {},
   "outputs": [],
   "source": [
    "sns.kdeplot(df_train['sqft_living'], shade=True)"
   ]
  },
  {
   "cell_type": "code",
   "execution_count": null,
   "metadata": {},
   "outputs": [],
   "source": []
  },
  {
   "cell_type": "code",
   "execution_count": null,
   "metadata": {},
   "outputs": [],
   "source": []
  },
  {
   "cell_type": "markdown",
   "metadata": {},
   "source": [
    "<a name=\"plt_1\"></a>\n",
    "## 2. matplotlib.pyplot\n",
    "\n",
    "그려진 그래프를 좀 더 세부적으로 조작하기 위해서는 matplotlib에 대해 아는 것이 도움이 많이 됩니다."
   ]
  },
  {
   "cell_type": "markdown",
   "metadata": {},
   "source": [
    "#### 1. Simple Plot"
   ]
  },
  {
   "cell_type": "code",
   "execution_count": null,
   "metadata": {},
   "outputs": [],
   "source": [
    "x = np.arange(1,10,0.1)\n",
    "y = np.sin(x)"
   ]
  },
  {
   "cell_type": "code",
   "execution_count": null,
   "metadata": {},
   "outputs": [],
   "source": [
    "plt.plot(x,y)"
   ]
  },
  {
   "cell_type": "markdown",
   "metadata": {},
   "source": [
    "#### 2. Line Style"
   ]
  },
  {
   "cell_type": "markdown",
   "metadata": {},
   "source": [
    "- i. color: \"green\", \"g\", \"#191919\",etc \n",
    "- ii. linestyle: '--', ':'\n",
    "- iii. marker: 'o', 's', '*'\n",
    "\n",
    "\n",
    "**official documents**\n",
    "- [matplotlib.pyplot plot](https://matplotlib.org/api/_as_gen/matplotlib.pyplot.plot.html)\n",
    "- [functions in plt](https://matplotlib.org/api/_as_gen/matplotlib.pyplot.html?highlight=matplotlib%20pyplot#module-matplotlib.pyplot)"
   ]
  },
  {
   "cell_type": "code",
   "execution_count": null,
   "metadata": {},
   "outputs": [],
   "source": [
    "sns.set(style=\"whitegrid\")"
   ]
  },
  {
   "cell_type": "code",
   "execution_count": null,
   "metadata": {},
   "outputs": [],
   "source": [
    "plt.plot(x,y,'g:')"
   ]
  },
  {
   "cell_type": "markdown",
   "metadata": {},
   "source": [
    "#### 3. Axis, Labels, and legend"
   ]
  },
  {
   "cell_type": "markdown",
   "metadata": {},
   "source": [
    "- plt.axis([xlb, xub, ylb, yub])\n",
    "    * lb: lower boundary\n",
    "    * ub: upper boundary\n",
    "\n",
    "- plt.xlabel({str})   // ax.set_xlabel({str})\n",
    "- plt.ylabel({str})   // ax.set_ylabel({str})\n",
    "\n",
    "- plt.legend([legend1, legend2 ..])\n",
    "\n",
    "\n",
    "[matplotlib text properties](https://matplotlib.org/api/text_api.html#matplotlib.text.Text)"
   ]
  },
  {
   "cell_type": "code",
   "execution_count": null,
   "metadata": {
    "scrolled": true
   },
   "outputs": [],
   "source": [
    "plt.plot(x,y,'g:')\n",
    "plt.axis([4, 10, 0.5, 1.0])\n",
    "plt.xlabel('x'); plt.ylabel('y')\n",
    "plt.plot(x,np.cos(x),'b*')\n",
    "plt.legend(['sin','cos'])"
   ]
  },
  {
   "cell_type": "markdown",
   "metadata": {},
   "source": [
    "#### 4. Modify Ticks\n",
    "- ax.set_xticks({list})\n",
    "- ax.set_xticklabels({list})\n",
    "- ax.set_yticks({list})\n",
    "- ax.set_yticklabels({list})"
   ]
  },
  {
   "cell_type": "code",
   "execution_count": null,
   "metadata": {},
   "outputs": [],
   "source": [
    "fig, ax = plt.subplots(1,1, figsize=(10,5))\n",
    "\n",
    "plt.plot(x,y,'g:')\n",
    "plt.plot(x,np.cos(x),'b*')\n",
    "\n",
    "\n",
    "ticks = list(range(1, 13))\n",
    "ticklabel = ['Jan', 'Feb', 'Mar', \"Apr\", \"May\", \"Jun\", \"Jul\", \"Aug\", \"Sep\", \"Oct\", \"Nov\", \"Dec\"]\n",
    "ax.set_xticks(ticks)\n",
    "ax.set_xticklabels(ticklabel)\n",
    "\n",
    "\n",
    "plt.axis([4, 10, 0.5, 1.0])\n",
    "plt.xlabel('x'); plt.ylabel('y')\n",
    "plt.legend(['sin','cos'])"
   ]
  },
  {
   "cell_type": "markdown",
   "metadata": {},
   "source": [
    "#### plt.bar() \n",
    "plt.bar(x, height)"
   ]
  },
  {
   "cell_type": "code",
   "execution_count": null,
   "metadata": {},
   "outputs": [],
   "source": [
    "a = plt.bar([1,2,3,4],[40, 15, 25, 65], tick_label=['a','b','c','d'])"
   ]
  },
  {
   "cell_type": "markdown",
   "metadata": {},
   "source": [
    "#### plt.pie()\n",
    "plt.pie(x)"
   ]
  },
  {
   "cell_type": "code",
   "execution_count": null,
   "metadata": {},
   "outputs": [],
   "source": [
    "a = plt.pie([20,60,70,97,54], labels=['a','b','c','d','e'], explode=[0,0.5,0.3,0,0], shadow=True, autopct='%d%%')"
   ]
  },
  {
   "cell_type": "markdown",
   "metadata": {},
   "source": [
    "#### plt.hist()"
   ]
  },
  {
   "cell_type": "code",
   "execution_count": null,
   "metadata": {},
   "outputs": [],
   "source": [
    "a = plt.hist(df_train.bedrooms.values, bins=6)"
   ]
  },
  {
   "cell_type": "markdown",
   "metadata": {},
   "source": [
    "## Problem 6\n",
    "seaborn의 sns.kdeplot을 활용하여, df_train의 'sqft_above'와 'sqft_living'의 분포를 함께 확인해보고,\n",
    "matplotlib.pyplot 을 결합하여 각 축의 label, title을 조정해보세요."
   ]
  },
  {
   "cell_type": "code",
   "execution_count": null,
   "metadata": {
    "scrolled": true
   },
   "outputs": [],
   "source": [
    "fig, ax = plt.subplots(1,1, figsize=(13,13))\n",
    "\n",
    "ax = sns.kdeplot(df_train.sqft_above, df_train.sqft_living, shade=True, cmap='jet')\n",
    "\n",
    "plt.axis([0,4000,0,4000])\n",
    "ax.set_xlabel('SQFT_ABOVE',fontsize=15)\n",
    "ax.set_ylabel('SQFT_LIVING', fontsize=15)\n",
    "ax.set_title(\"SQFT_ABOVE VS SQFT_LIVING\", fontsize='xx-large')\n",
    "\n",
    "start, end = ax.get_xlim()\n",
    "dum = ax.set_xticks(np.arange(start,end,1000))"
   ]
  },
  {
   "cell_type": "code",
   "execution_count": null,
   "metadata": {},
   "outputs": [],
   "source": []
  },
  {
   "cell_type": "code",
   "execution_count": null,
   "metadata": {},
   "outputs": [],
   "source": []
  },
  {
   "cell_type": "markdown",
   "metadata": {},
   "source": [
    "## matplotlib의 axes와 seaborn을 연동하기 위해서는 relplot, catplot 이 아닌 다른 세부 함수를 사용해야 합니다!"
   ]
  },
  {
   "cell_type": "markdown",
   "metadata": {},
   "source": [
    "<a name=\"pandasplot_1\"></a>\n",
    "## pandas plot\n",
    "\n",
    "pandas DatafFrame 자체가 여러 plot 메소드들을 가지고 있습니다.\n",
    "\n",
    "\n",
    "\n",
    "* DataFrame.plot(x, y, kind, ax)\n",
    "* Series.plot.kind(ax, fontsize, colormap, rot, **kwargs)\n",
    "\n",
    "\n",
    "\n",
    "**Official Document**\n",
    "[pandas.DataFrame.plot](https://pandas.pydata.org/pandas-docs/stable/reference/api/pandas.DataFrame.plot.html)"
   ]
  },
  {
   "cell_type": "code",
   "execution_count": null,
   "metadata": {},
   "outputs": [],
   "source": [
    "plt.close('all')\n",
    "fig,ax = plt.subplots(1,2, figsize=(20,10))\n",
    "\n",
    "df_train.plot(x='sqft_living',y='price',kind='scatter',ax=ax[0])\n",
    "df_train[\"price\"].plot.kde(ax=ax[1], fontsize=15, title=\"kde of sqft_living\")"
   ]
  },
  {
   "cell_type": "code",
   "execution_count": null,
   "metadata": {},
   "outputs": [],
   "source": []
  },
  {
   "cell_type": "code",
   "execution_count": null,
   "metadata": {},
   "outputs": [],
   "source": []
  },
  {
   "cell_type": "markdown",
   "metadata": {},
   "source": [
    "## Heat map and correlation"
   ]
  },
  {
   "cell_type": "code",
   "execution_count": null,
   "metadata": {},
   "outputs": [],
   "source": []
  },
  {
   "cell_type": "code",
   "execution_count": null,
   "metadata": {},
   "outputs": [],
   "source": []
  },
  {
   "cell_type": "markdown",
   "metadata": {},
   "source": [
    "## Cross Tab"
   ]
  },
  {
   "cell_type": "code",
   "execution_count": null,
   "metadata": {},
   "outputs": [],
   "source": []
  },
  {
   "cell_type": "code",
   "execution_count": null,
   "metadata": {},
   "outputs": [],
   "source": []
  },
  {
   "cell_type": "markdown",
   "metadata": {},
   "source": [
    "# [맨위로 가기](#top)"
   ]
  },
  {
   "cell_type": "code",
   "execution_count": null,
   "metadata": {},
   "outputs": [],
   "source": []
  }
 ],
 "metadata": {
  "kernelspec": {
   "display_name": "Python 3",
   "language": "python",
   "name": "python3"
  },
  "language_info": {
   "codemirror_mode": {
    "name": "ipython",
    "version": 3
   },
   "file_extension": ".py",
   "mimetype": "text/x-python",
   "name": "python",
   "nbconvert_exporter": "python",
   "pygments_lexer": "ipython3",
   "version": "3.6.7"
  }
 },
 "nbformat": 4,
 "nbformat_minor": 2
}
